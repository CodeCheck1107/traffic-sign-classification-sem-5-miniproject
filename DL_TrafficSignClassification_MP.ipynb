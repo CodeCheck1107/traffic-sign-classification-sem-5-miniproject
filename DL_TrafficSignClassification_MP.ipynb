{
 "cells": [
  {
   "cell_type": "markdown",
   "id": "1d3907c1",
   "metadata": {},
   "source": [
    "##### all system call commands are modified to fit my system, please make necessary changes to correctly retrieve data from your local device."
   ]
  },
  {
   "cell_type": "code",
   "execution_count": null,
   "id": "fa06d3f6",
   "metadata": {},
   "outputs": [],
   "source": [
    "pip install tensorflow keras sklearn matplotlib pandas pillow opencv-python"
   ]
  },
  {
   "cell_type": "code",
   "execution_count": 2,
   "id": "476a8e5b",
   "metadata": {},
   "outputs": [],
   "source": [
    "#importing required modules to create this project.\n",
    "import numpy as np  #basic exploration and assist.\n",
    "import pandas as pd #basic exploration and assist.\n",
    "import matplotlib.pyplot as plt #to plot graphs.\n",
    "import cv2 #to classify image and assist recognition.\n",
    "import tensorflow as tf\n",
    "from PIL import Image #to create image arrays etc.\n",
    "import os #to allow operating system calls.\n",
    "from sklearn.model_selection import train_test_split #scikit learn to split, test and train the data.\n",
    "from tensorflow.keras.utils import to_categorical #to encode data to categories.\n",
    "from keras.models import Sequential, load_model #to create our model which is sequential.\n",
    "from keras.layers import Conv2D, MaxPool2D, Dense, Flatten, Dropout #to add layers to our model for accurate results."
   ]
  },
  {
   "cell_type": "markdown",
   "id": "7c6182e5",
   "metadata": {},
   "source": [
    "##### dataset exploration"
   ]
  },
  {
   "cell_type": "code",
   "execution_count": 3,
   "id": "64f65e22",
   "metadata": {},
   "outputs": [],
   "source": [
    "data = []\n",
    "labels = []\n",
    "classes = 43\n",
    "cur_path = os.getcwd()"
   ]
  },
  {
   "cell_type": "code",
   "execution_count": 4,
   "id": "3a8e061f",
   "metadata": {},
   "outputs": [],
   "source": [
    "#retrieving the images and their labels and appending said items in previously initialised lists.\n",
    "for i in range(classes):\n",
    "    path = os.path.join(cur_path,'/traffic-sign-classification/Train/',str(i))\n",
    "    images = os.listdir(path)\n",
    "    for a in images:\n",
    "        try:\n",
    "            image = Image.open(path + '/'+ a)\n",
    "            image = image.resize((30,30))\n",
    "            image = np.array(image)\n",
    "            data.append(image)\n",
    "            labels.append(i)\n",
    "        except:\n",
    "            print(\"Error loading image\")"
   ]
  },
  {
   "cell_type": "code",
   "execution_count": 5,
   "id": "5d65f264",
   "metadata": {},
   "outputs": [
    {
     "name": "stdout",
     "output_type": "stream",
     "text": [
      "(39209, 30, 30, 3) (39209,)\n"
     ]
    }
   ],
   "source": [
    "#converting lists into numpy arrays to feed model.\n",
    "data = np.array(data)\n",
    "labels = np.array(labels)\n",
    "print(data.shape, labels.shape) #The shape of data obtained is (39209, 30, 30, 3) which means that there are 39,209 images of size 30×30 pixels and the last 3 means the data contains colored images (RGB value)"
   ]
  },
  {
   "cell_type": "code",
   "execution_count": 6,
   "id": "a03f93c1",
   "metadata": {},
   "outputs": [
    {
     "name": "stdout",
     "output_type": "stream",
     "text": [
      "(31367, 30, 30, 3) (7842, 30, 30, 3) (31367,) (7842,)\n"
     ]
    }
   ],
   "source": [
    "#splitting training and testing dataset\n",
    "X_train, X_test, y_train, y_test = train_test_split(data, labels, test_size=0.2, random_state=42)\n",
    "print(X_train.shape, X_test.shape, y_train.shape, y_test.shape)"
   ]
  },
  {
   "cell_type": "code",
   "execution_count": 7,
   "id": "3c65bbf9",
   "metadata": {},
   "outputs": [],
   "source": [
    "#converting the labels into one-hot encoding of categories.\n",
    "y_train = to_categorical(y_train, 43)\n",
    "y_test = to_categorical(y_test, 43)"
   ]
  },
  {
   "cell_type": "markdown",
   "id": "135baa31",
   "metadata": {},
   "source": [
    "##### building CNN model"
   ]
  },
  {
   "cell_type": "code",
   "execution_count": 8,
   "id": "fa2ab148",
   "metadata": {},
   "outputs": [],
   "source": [
    "#building the CNN model as CNN is best for image classification purposes.\n",
    "model = Sequential()\n",
    "model.add(Conv2D(filters=32, kernel_size=(5,5), activation='relu', input_shape=X_train.shape[1:])) #2D convolution layer class that creates a convolution kernel that is convolved with the layer input to produce a tensor of outputs.\n",
    "model.add(Conv2D(filters=32, kernel_size=(5,5), activation='relu'))\n",
    "model.add(MaxPool2D(pool_size=(2, 2))) #max pooling operation for 2D spatial data.\n",
    "model.add(Dropout(rate=0.25)) #applies dropout layer that randomly sets input units to 0 with a frequency of rate at each step during training time, which helps prevent overfitting.\n",
    "model.add(Conv2D(filters=64, kernel_size=(3, 3), activation='relu'))\n",
    "model.add(Conv2D(filters=64, kernel_size=(3, 3), activation='relu'))\n",
    "model.add(MaxPool2D(pool_size=(2, 2)))\n",
    "model.add(Dropout(rate=0.25))\n",
    "model.add(Flatten()) #flattens the input without affecting the batch size.\n",
    "model.add(Dense(256, activation='relu')) #regular densely-connected NN layer.\n",
    "model.add(Dropout(rate=0.5))\n",
    "model.add(Dense(43, activation='softmax'))"
   ]
  },
  {
   "cell_type": "markdown",
   "id": "7664a65f",
   "metadata": {},
   "source": [
    "##### training and validation of model"
   ]
  },
  {
   "cell_type": "code",
   "execution_count": 9,
   "id": "91832ffd",
   "metadata": {},
   "outputs": [
    {
     "name": "stdout",
     "output_type": "stream",
     "text": [
      "Epoch 1/15\n",
      "491/491 [==============================] - 26s 51ms/step - loss: 2.1601 - accuracy: 0.4885 - val_loss: 0.3666 - val_accuracy: 0.9044\n",
      "Epoch 2/15\n",
      "491/491 [==============================] - 25s 51ms/step - loss: 0.5203 - accuracy: 0.8567 - val_loss: 0.2110 - val_accuracy: 0.9625\n",
      "Epoch 3/15\n",
      "491/491 [==============================] - 25s 50ms/step - loss: 0.2986 - accuracy: 0.9206 - val_loss: 0.0947 - val_accuracy: 0.9801\n",
      "Epoch 4/15\n",
      "491/491 [==============================] - 25s 51ms/step - loss: 0.2372 - accuracy: 0.9364 - val_loss: 0.0535 - val_accuracy: 0.9860\n",
      "Epoch 5/15\n",
      "491/491 [==============================] - 25s 51ms/step - loss: 0.1988 - accuracy: 0.9462 - val_loss: 0.0852 - val_accuracy: 0.9795\n",
      "Epoch 6/15\n",
      "491/491 [==============================] - 27s 54ms/step - loss: 0.1662 - accuracy: 0.9544 - val_loss: 0.0490 - val_accuracy: 0.9870\n",
      "Epoch 7/15\n",
      "491/491 [==============================] - 27s 54ms/step - loss: 0.1662 - accuracy: 0.9564 - val_loss: 0.0462 - val_accuracy: 0.9898\n",
      "Epoch 8/15\n",
      "491/491 [==============================] - 27s 55ms/step - loss: 0.1665 - accuracy: 0.9563 - val_loss: 0.0373 - val_accuracy: 0.9906\n",
      "Epoch 9/15\n",
      "491/491 [==============================] - 26s 53ms/step - loss: 0.1526 - accuracy: 0.9593 - val_loss: 0.0433 - val_accuracy: 0.9899\n",
      "Epoch 10/15\n",
      "491/491 [==============================] - 26s 53ms/step - loss: 0.1462 - accuracy: 0.9627 - val_loss: 0.0305 - val_accuracy: 0.9938\n",
      "Epoch 11/15\n",
      "491/491 [==============================] - 26s 53ms/step - loss: 0.1412 - accuracy: 0.9638 - val_loss: 0.0342 - val_accuracy: 0.9918\n",
      "Epoch 12/15\n",
      "491/491 [==============================] - 25s 51ms/step - loss: 0.1514 - accuracy: 0.9607 - val_loss: 0.0375 - val_accuracy: 0.9918\n",
      "Epoch 13/15\n",
      "491/491 [==============================] - 27s 55ms/step - loss: 0.1449 - accuracy: 0.9633 - val_loss: 0.0312 - val_accuracy: 0.9922\n",
      "Epoch 14/15\n",
      "491/491 [==============================] - 27s 55ms/step - loss: 0.1309 - accuracy: 0.9670 - val_loss: 0.0396 - val_accuracy: 0.9908\n",
      "Epoch 15/15\n",
      "491/491 [==============================] - 28s 57ms/step - loss: 0.1434 - accuracy: 0.9645 - val_loss: 0.0400 - val_accuracy: 0.9917\n"
     ]
    }
   ],
   "source": [
    "#compilation of the model\n",
    "model.compile(loss='categorical_crossentropy', optimizer='adam', metrics=['accuracy'])#we compile the model with Adam optimizer which performs well and loss is “categorical_crossentropy” because we have multiple classes to categorise.\n",
    "epochs = 15 #we tried with batch size 32 and 64. our model performed better with 64 batch size and after 15 epochs the accuracy was stable.\n",
    "history = model.fit(X_train, y_train, batch_size=64, epochs=epochs, validation_data=(X_test, y_test))\n",
    "model.save(\"my_model.h5\")"
   ]
  },
  {
   "cell_type": "code",
   "execution_count": 10,
   "id": "b281ef1d",
   "metadata": {},
   "outputs": [
    {
     "data": {
      "image/png": "[encoded data removed]",
      "text/plain": [
       "<Figure size 640x480 with 1 Axes>"
      ]
     },
     "metadata": {},
     "output_type": "display_data"
    },
    {
     "data": {
      "image/png": "[encoded data removed]",
      "text/plain": [
       "<Figure size 640x480 with 1 Axes>"
      ]
     },
     "metadata": {},
     "output_type": "display_data"
    }
   ],
   "source": [
    "#with matplotlib, we plot the graph for accuracy and the loss.\n",
    "plt.figure(0)\n",
    "plt.plot(history.history['accuracy'], label='training accuracy')\n",
    "plt.plot(history.history['val_accuracy'], label='val accuracy')\n",
    "plt.title('Accuracy')\n",
    "plt.xlabel('epochs')\n",
    "plt.ylabel('accuracy')\n",
    "plt.legend()\n",
    "plt.show()\n",
    "plt.figure(1)\n",
    "plt.plot(history.history['loss'], label='training loss')\n",
    "plt.plot(history.history['val_loss'], label='val loss')\n",
    "plt.title('Loss')\n",
    "plt.xlabel('epochs')\n",
    "plt.ylabel('loss')\n",
    "plt.legend()\n",
    "plt.show()"
   ]
  },
  {
   "cell_type": "markdown",
   "id": "08715aa2",
   "metadata": {},
   "source": [
    "##### testing model with test dataset"
   ]
  },
  {
   "cell_type": "code",
   "execution_count": 11,
   "id": "227bce90",
   "metadata": {},
   "outputs": [
    {
     "name": "stdout",
     "output_type": "stream",
     "text": [
      "395/395 [==============================] - 3s 7ms/step\n"
     ]
    }
   ],
   "source": [
    "#testing accuracy on test dataset\n",
    "from sklearn.metrics import accuracy_score\n",
    "y_test = pd.read_csv('Test.csv')\n",
    "labels = y_test[\"ClassId\"].values\n",
    "imgs = y_test[\"Path\"].values\n",
    "data=[]\n",
    "for img in imgs:\n",
    "    image = Image.open(img)\n",
    "    image = image.resize((30,30))\n",
    "    data.append(np.array(image))\n",
    "X_test=np.array(data)\n",
    "predict_x=model.predict(X_test) \n",
    "classes_x=np.argmax(predict_x,axis=1)"
   ]
  },
  {
   "cell_type": "code",
   "execution_count": 12,
   "id": "4d885247",
   "metadata": {},
   "outputs": [
    {
     "name": "stdout",
     "output_type": "stream",
     "text": [
      "0.9696753760886777\n"
     ]
    }
   ],
   "source": [
    "#accuracy with the test data\n",
    "from sklearn.metrics import accuracy_score\n",
    "print(accuracy_score(labels, classes_x)) #our model got a 96% accuracy.\n",
    "model.save('traffic_classifier.h5')"
   ]
  },
  {
   "cell_type": "code",
   "execution_count": 13,
   "id": "a9bb1539",
   "metadata": {},
   "outputs": [],
   "source": [
    "#imported required files for GUI. we are using tkinter as our core for the GUI.\n",
    "import tkinter as tk\n",
    "from tkinter import filedialog\n",
    "from tkinter import *\n",
    "from PIL import ImageTk, Image\n",
    "import numpy"
   ]
  },
  {
   "cell_type": "code",
   "execution_count": 14,
   "id": "3aba2ba7",
   "metadata": {},
   "outputs": [],
   "source": [
    "#loading the trained model to classify sign via keras.\n",
    "from keras.models import load_model\n",
    "model = load_model('traffic_classifier.h5')"
   ]
  },
  {
   "cell_type": "code",
   "execution_count": 15,
   "id": "1ac247b3",
   "metadata": {},
   "outputs": [],
   "source": [
    "#creating dictionary to label all traffic sign classes.\n",
    "classes = { 1:'Speed limit (20km/h)',\n",
    "            2:'Speed limit (30km/h)', \n",
    "            3:'Speed limit (50km/h)', \n",
    "            4:'Speed limit (60km/h)', \n",
    "            5:'Speed limit (70km/h)', \n",
    "            6:'Speed limit (80km/h)', \n",
    "            7:'End of speed limit (80km/h)', \n",
    "            8:'Speed limit (100km/h)', \n",
    "            9:'Speed limit (120km/h)', \n",
    "            10:'No passing', \n",
    "            11:'No passing veh over 3.5 tons', \n",
    "            12:'Right-of-way at intersection', \n",
    "            13:'Priority road', \n",
    "            14:'Yield', \n",
    "            15:'Stop', \n",
    "            16:'No vehicles', \n",
    "            17:'Veh > 3.5 tons prohibited', \n",
    "            18:'No entry', \n",
    "            19:'General caution', \n",
    "            20:'Dangerous curve left', \n",
    "            21:'Dangerous curve right', \n",
    "            22:'Double curve', \n",
    "            23:'Bumpy road', \n",
    "            24:'Slippery road', \n",
    "            25:'Road narrows on the right', \n",
    "            26:'Road work', \n",
    "            27:'Traffic signals', \n",
    "            28:'Pedestrians', \n",
    "            29:'Children crossing', \n",
    "            30:'Bicycles crossing', \n",
    "            31:'Beware of ice/snow',\n",
    "            32:'Wild animals crossing', \n",
    "            33:'End speed + passing limits', \n",
    "            34:'Turn right ahead', \n",
    "            35:'Turn left ahead', \n",
    "            36:'Ahead only', \n",
    "            37:'Go straight or right', \n",
    "            38:'Go straight or left', \n",
    "            39:'Keep right', \n",
    "            40:'Keep left', \n",
    "            41:'Roundabout mandatory', \n",
    "            42:'End of no passing', \n",
    "            43:'End no passing veh > 3.5 tons' }"
   ]
  },
  {
   "cell_type": "markdown",
   "id": "9e56a325",
   "metadata": {},
   "source": [
    "##### Run this kernel to execute program model"
   ]
  },
  {
   "cell_type": "code",
   "execution_count": null,
   "id": "c95ba32b",
   "metadata": {},
   "outputs": [],
   "source": [
    "#initialising the GUI (creating windows, buttons and functions).\n",
    "#creating GUI main window first.\n",
    "top=tk.Tk()\n",
    "top.geometry('800x600')\n",
    "top.title('Traffic Sign Classification')\n",
    "top.configure(background='#CDCDCD')\n",
    "label=Label(top,background='#CDCDCD', font=('arial',15,'bold'))\n",
    "sign_image = Label(top)\n",
    "#classify function to predict and classify the uploaded test image to give output.\n",
    "def classify(file_path):\n",
    "    global label_packed\n",
    "    image = Image.open(file_path)\n",
    "    image = image.resize((30,30))\n",
    "    image = numpy.expand_dims(image, axis=0)\n",
    "    image = numpy.array(image)\n",
    "    predict_classes = model.predict([image])[0] \n",
    "    pred = np.argmax(predict_classes)\n",
    "    sign = classes[pred+1]\n",
    "    print(sign)\n",
    "    label.configure(foreground='black', text=sign) \n",
    "#creating classify button ui that gives output on click.\n",
    "def show_classify_button(file_path):\n",
    "    classify_b=Button(top,text=\"Classify Image\",command=lambda: classify(file_path),padx=10,pady=5)\n",
    "    classify_b.configure(background='black', foreground='black',font=('arial',14,'bold'))\n",
    "    classify_b.place(relx=0.79,rely=0.46)\n",
    "#upload function that lets test image from local device to be uploaded for classification.\n",
    "def upload_image():\n",
    "    try:\n",
    "        file_path=filedialog.askopenfilename()\n",
    "        uploaded=Image.open(file_path)\n",
    "        uploaded.thumbnail(((top.winfo_width()/0.1),(top.winfo_height()/0.1)))\n",
    "        im=ImageTk.PhotoImage(uploaded)\n",
    "        sign_image.configure(image=im)\n",
    "        sign_image.image=im\n",
    "        label.configure(text='')\n",
    "        show_classify_button(file_path)\n",
    "    except:\n",
    "        pass\n",
    "#upload button ui created that lets us upload test image for classification on click.\n",
    "upload=Button(top,text=\"Upload an image\",command=upload_image,padx=10,pady=5)\n",
    "upload.configure(background='black', foreground='black',font=('arial',14,'bold'))\n",
    "upload.pack(side=BOTTOM,pady=50)\n",
    "sign_image.pack(side=BOTTOM,expand=True)\n",
    "label.pack(side=BOTTOM,expand=True)\n",
    "#heading and loops\n",
    "heading = Label(top, text=\"Know Your Traffic Sign\",pady=20, font=('arial',20,'bold'))\n",
    "heading.configure(background='#CDCDCD',foreground='black')\n",
    "heading.pack()\n",
    "top.mainloop()"
   ]
  },
  {
   "cell_type": "markdown",
   "id": "c0f7138a",
   "metadata": {},
   "source": [
    "#### - Team 9 \n",
    "       Taneesh Parmar TE-3 37\n",
    "       Himanshu Chaudhari TE-4 05\n",
    "       Yajnesh Kharayat TE-4 23\n",
    "       Varun Rajapure TE-4 42"
   ]
  }
 ],
 "metadata": {
  "kernelspec": {
   "display_name": "Python 3.9.13 64-bit",
   "language": "python",
   "name": "python3"
  },
  "language_info": {
   "codemirror_mode": {
    "name": "ipython",
    "version": 3
   },
   "file_extension": ".py",
   "mimetype": "text/x-python",
   "name": "python",
   "nbconvert_exporter": "python",
   "pygments_lexer": "ipython3",
   "version": "3.9.13"
  },
  "vscode": {
   "interpreter": {
    "hash": "329efb36af46912fb6b00dd54ec5c935353c7b94c38832dbba01c99f0f9c9a2a"
   }
  }
 },
 "nbformat": 4,
 "nbformat_minor": 5
}
